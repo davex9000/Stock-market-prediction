{
  "nbformat": 4,
  "nbformat_minor": 0,
  "metadata": {
    "colab": {
      "provenance": [],
      "authorship_tag": "ABX9TyM+knMXnDJ9BtgSlSfCPJvQ",
      "include_colab_link": true
    },
    "kernelspec": {
      "name": "python3",
      "display_name": "Python 3"
    },
    "language_info": {
      "name": "python"
    }
  },
  "cells": [
    {
      "cell_type": "markdown",
      "metadata": {
        "id": "view-in-github",
        "colab_type": "text"
      },
      "source": [
        "<a href=\"https://colab.research.google.com/github/davex9000/Stock-market-prediction/blob/main/earning_report_analysis.ipynb\" target=\"_parent\"><img src=\"https://colab.research.google.com/assets/colab-badge.svg\" alt=\"Open In Colab\"/></a>"
      ]
    },
    {
      "cell_type": "code",
      "source": [
        "# 1. Getting the earnings\n",
        "# 2. seperating bio-tech and pharma industries\n",
        "# 3. listing who has positive consecutive earning reports\n",
        "# 4. availability on gettex"
      ],
      "metadata": {
        "id": "k3dAP6Oueq9k"
      },
      "execution_count": 40,
      "outputs": []
    },
    {
      "cell_type": "code",
      "source": [
        "# !pip install yfinance"
      ],
      "metadata": {
        "id": "TfmdN4DzeM5p"
      },
      "execution_count": 39,
      "outputs": []
    },
    {
      "cell_type": "code",
      "source": [
        "import yfinance as yf\n"
      ],
      "metadata": {
        "id": "T_E7kzl0eLbF"
      },
      "execution_count": 37,
      "outputs": []
    },
    {
      "cell_type": "code",
      "source": [
        "# 1. Getting the earnings (daily)\n"
      ],
      "metadata": {
        "id": "toWu1oBfeU7B"
      },
      "execution_count": null,
      "outputs": []
    },
    {
      "cell_type": "code",
      "source": [
        "# Fetch earnings data for a specific ticker\n",
        "ticker = 'NVDA'\n",
        "stock = yf.Ticker(ticker)\n",
        "earnings = stock.earnings_dates\n",
        "\n",
        "# Print earnings data\n",
        "print(earnings)"
      ],
      "metadata": {
        "colab": {
          "base_uri": "https://localhost:8080/"
        },
        "id": "Mtv3BD_OYMp7",
        "outputId": "0cacb3dc-6bc7-4bb3-b94d-6aabf6eaefb9"
      },
      "execution_count": 41,
      "outputs": [
        {
          "output_type": "stream",
          "name": "stdout",
          "text": [
            "                           EPS Estimate  Reported EPS  Surprise(%)\n",
            "Earnings Date                                                     \n",
            "2025-05-20 16:00:00-04:00           NaN           NaN          NaN\n",
            "2025-02-19 16:00:00-05:00           NaN           NaN          NaN\n",
            "2024-11-19 16:00:00-05:00           NaN           NaN          NaN\n",
            "2024-08-28 16:00:00-04:00          0.64           NaN          NaN\n",
            "2024-05-22 16:00:00-04:00          0.56          0.61       0.0948\n",
            "2024-02-21 16:00:00-05:00          4.64          5.16       0.1132\n",
            "2023-11-21 16:00:00-05:00          3.37          4.02       0.1921\n",
            "2023-08-23 16:00:00-04:00          2.09          2.70       0.2941\n",
            "2023-05-24 16:00:00-04:00          0.92          1.09       0.1857\n",
            "2023-02-22 16:00:00-05:00          0.81          0.88       0.0875\n",
            "2022-11-16 16:00:00-05:00          0.69          0.58      -0.1647\n",
            "2022-08-24 16:00:00-04:00          1.26          0.51      -0.5938\n"
          ]
        }
      ]
    },
    {
      "cell_type": "code",
      "source": [],
      "metadata": {
        "id": "-sye5HkdYMnK"
      },
      "execution_count": 38,
      "outputs": []
    },
    {
      "cell_type": "code",
      "source": [],
      "metadata": {
        "id": "3ZJq6nMNYMjD"
      },
      "execution_count": 38,
      "outputs": []
    }
  ]
}