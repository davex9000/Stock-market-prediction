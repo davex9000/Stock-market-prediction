{
  "cells": [
    {
      "cell_type": "code",
      "execution_count": 56,
      "metadata": {
        "id": "Z7f3VqhhqBgO"
      },
      "outputs": [],
      "source": [
        "# !pip install yahoo-fin\n",
        "# !pip install alpha_vantage\n"
      ]
    },
    {
      "cell_type": "code",
      "execution_count": 9,
      "metadata": {},
      "outputs": [],
      "source": [
        "import requests\n",
        "import pandas as pd\n",
        "import datetime\n",
        "\n",
        "from earning_reports_today import earning_reports_today\n",
        "\n",
        "todays_earning_reporters = earning_reports_today()\n",
        "\n"
      ]
    },
    {
      "cell_type": "code",
      "execution_count": 11,
      "metadata": {},
      "outputs": [
        {
          "data": {
            "text/plain": [
              "['SNT',\n",
              " 'EMD',\n",
              " 'IGR',\n",
              " 'XYF',\n",
              " 'PFN',\n",
              " 'TCTM',\n",
              " 'SICP',\n",
              " 'VVPR',\n",
              " 'PRTG',\n",
              " 'NAT',\n",
              " 'CAF',\n",
              " 'YQ',\n",
              " 'FINV',\n",
              " 'NOAH',\n",
              " 'JOANQ',\n",
              " 'AKTS',\n",
              " 'OWPC',\n",
              " 'HEI']"
            ]
          },
          "execution_count": 11,
          "metadata": {},
          "output_type": "execute_result"
        }
      ],
      "source": [
        "todays_earning_reporters"
      ]
    },
    {
      "cell_type": "code",
      "execution_count": null,
      "metadata": {},
      "outputs": [],
      "source": []
    },
    {
      "cell_type": "code",
      "execution_count": null,
      "metadata": {},
      "outputs": [],
      "source": []
    },
    {
      "cell_type": "code",
      "execution_count": null,
      "metadata": {},
      "outputs": [],
      "source": []
    },
    {
      "cell_type": "code",
      "execution_count": null,
      "metadata": {},
      "outputs": [],
      "source": []
    },
    {
      "cell_type": "code",
      "execution_count": null,
      "metadata": {},
      "outputs": [],
      "source": []
    },
    {
      "cell_type": "code",
      "execution_count": 59,
      "metadata": {
        "id": "wF3A-jp44dzR"
      },
      "outputs": [],
      "source": [
        "# Y2143N0N4SKZ54HW    alpha vantage api"
      ]
    },
    {
      "cell_type": "code",
      "execution_count": 60,
      "metadata": {
        "colab": {
          "base_uri": "https://localhost:8080/"
        },
        "id": "1A_a4UY-4m7o",
        "outputId": "ce8b68ee-05aa-4d2d-b9f1-13025ea4dccf"
      },
      "outputs": [
        {
          "name": "stdout",
          "output_type": "stream",
          "text": [
            "                     1. open  2. high  3. low  4. close  5. volume\n",
            "date                                                              \n",
            "2024-08-23 19:59:00  416.815   416.84  416.78   416.780      222.0\n",
            "2024-08-23 19:58:00  416.830   416.87  416.82   416.870       41.0\n",
            "2024-08-23 19:57:00  416.880   416.88  416.83   416.880      174.0\n",
            "2024-08-23 19:56:00  416.830   416.99  416.80   416.877      174.0\n",
            "2024-08-23 19:55:00  416.860   417.00  416.78   416.830      272.0\n"
          ]
        }
      ],
      "source": [
        "from alpha_vantage.timeseries import TimeSeries\n",
        "\n",
        "ts = TimeSeries(key='Y2143N0N4SKZ54HW', output_format='pandas')\n",
        "data, meta_data = ts.get_intraday(symbol='MSFT',interval='1min', outputsize='full')\n",
        "\n",
        "print(data.head())"
      ]
    },
    {
      "cell_type": "code",
      "execution_count": 2,
      "metadata": {
        "colab": {
          "base_uri": "https://localhost:8080/"
        },
        "id": "i49WcWOwB7ce",
        "outputId": "d9a9fb6e-fd3d-4917-bdc6-623e316e63c9"
      },
      "outputs": [],
      "source": [
        "import requests\n",
        "import pandas as pd\n",
        "\n",
        "# Your Alpha Vantage API key\n",
        "api_key = \"Y2143N0N4SKZ54HW\"\n",
        "\n",
        "# Symbol of the stock (e.g., AAPL for Apple)\n",
        "symbol = \"AAPL\"\n",
        "\n",
        "# API URL for fetching earnings data\n",
        "url = f\"https://www.alphavantage.co/query?function=EARNINGS&symbol={symbol}&apikey={api_key}\"\n",
        "\n",
        "# Make the API request\n",
        "response = requests.get(url)\n",
        "\n",
        "# Parse the JSON response\n",
        "data = response.json()\n",
        "\n",
        "# Convert the earnings data into a pandas DataFrame (quarterly earnings)\n",
        "earnings_data = pd.DataFrame(data['quarterlyEarnings'])\n",
        "\n",
        "# Display the earnings data\n",
        "# print(earnings_data)\n",
        "\n",
        "# # Optionally, save the data to a CSV file for further analysis\n",
        "# earnings_data.to_csv('apple_earnings.csv', index=False)\n"
      ]
    },
    {
      "cell_type": "code",
      "execution_count": 1,
      "metadata": {
        "colab": {
          "base_uri": "https://localhost:8080/",
          "height": 443
        },
        "id": "YrVmkjppGDom",
        "outputId": "1da9c307-f509-4ec5-d949-c2aacc362020"
      },
      "outputs": [],
      "source": [
        "# earnings_data"
      ]
    },
    {
      "cell_type": "code",
      "execution_count": 63,
      "metadata": {
        "colab": {
          "base_uri": "https://localhost:8080/",
          "height": 458
        },
        "id": "JLF_KB12Klir",
        "outputId": "11838d71-0936-4d10-89ab-90015180732d"
      },
      "outputs": [],
      "source": [
        "# earnings_data.reportedEPS"
      ]
    },
    {
      "cell_type": "code",
      "execution_count": 64,
      "metadata": {
        "colab": {
          "base_uri": "https://localhost:8080/",
          "height": 458
        },
        "id": "kmWvFfRTLP-U",
        "outputId": "86709c45-0044-4fe5-ce44-b1352151f405"
      },
      "outputs": [],
      "source": [
        "# earnings_data.estimatedEPS"
      ]
    },
    {
      "cell_type": "code",
      "execution_count": 65,
      "metadata": {
        "id": "9rTHvqS3TC3G"
      },
      "outputs": [
        {
          "data": {
            "image/png": "[encoded data removed]",
            "text/plain": [
              "<Figure size 1000x600 with 1 Axes>"
            ]
          },
          "metadata": {},
          "output_type": "display_data"
        }
      ],
      "source": [
        "import matplotlib.pyplot as plt\n",
        "import pandas as pd\n",
        "\n",
        "# Sample data (similar to what you shared)\n",
        "data = {\n",
        "    \"fiscalDateEnding\": [\"2023-09-30\", \"2023-12-31\", \"2024-03-31\", \"2024-06-30\"],\n",
        "    \"reportedEPS\": [1.46, 2.18, 1.53, 1.4],\n",
        "    \"estimatedEPS\": [1.39, 2.1, 1.5, 1.35],\n",
        "}\n",
        "\n",
        "# Convert data to DataFrame\n",
        "df = pd.DataFrame(data)\n",
        "\n",
        "# Set the figure size\n",
        "plt.figure(figsize=(10, 6))\n",
        "\n",
        "# Plot bars for both reported and estimated EPS\n",
        "bar_width = 0.35  # Width of the bars\n",
        "index = range(len(df))  # X-axis positions\n",
        "\n",
        "# Plot reported EPS\n",
        "plt.bar(index, df['estimatedEPS'], width=bar_width, label='Estimated EPS', color='lightblue')\n",
        "\n",
        "# Plot estimated EPS\n",
        "plt.bar([i + bar_width for i in index], df['reportedEPS'], width=bar_width, label='Reported EPS', color='teal')\n",
        "\n",
        "# Add labels and title\n",
        "plt.xlabel('Fiscal Quarter')\n",
        "plt.ylabel('EPS')\n",
        "plt.title('Estimated vs Reported EPS')\n",
        "\n",
        "# Add custom x-axis labels\n",
        "plt.xticks([i + bar_width / 2 for i in index], df['fiscalDateEnding'])\n",
        "\n",
        "# Add legend\n",
        "plt.legend()\n",
        "\n",
        "# Show the plot\n",
        "plt.tight_layout()\n",
        "plt.show()\n"
      ]
    },
    {
      "cell_type": "code",
      "execution_count": 66,
      "metadata": {},
      "outputs": [],
      "source": [
        "# !pip install streamlit"
      ]
    }
  ],
  "metadata": {
    "colab": {
      "provenance": []
    },
    "kernelspec": {
      "display_name": "Python 3",
      "name": "python3"
    },
    "language_info": {
      "codemirror_mode": {
        "name": "ipython",
        "version": 3
      },
      "file_extension": ".py",
      "mimetype": "text/x-python",
      "name": "python",
      "nbconvert_exporter": "python",
      "pygments_lexer": "ipython3",
      "version": "3.8.19"
    }
  },
  "nbformat": 4,
  "nbformat_minor": 0
}
